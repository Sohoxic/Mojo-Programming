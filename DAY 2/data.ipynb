{
 "cells": [
  {
   "cell_type": "code",
   "execution_count": 12,
   "metadata": {},
   "outputs": [],
   "source": [
    "struct MyPair:\n",
    "    var first: Int\n",
    "    var second: Int\n",
    "    fn __init__(inout self, first: Int, second: Int):\n",
    "        self.first = first\n",
    "        self.second = second\n",
    "\n",
    "    fn get_sum(self) -> Int:\n",
    "        return self.first + self.second\n",
    "\n",
    "def main():\n",
    "    var mine = MyPair(1,2)\n",
    "    print(mine.get_sum())\n"
   ]
  },
  {
   "cell_type": "code",
   "execution_count": 13,
   "metadata": {},
   "outputs": [
    {
     "name": "stdout",
     "output_type": "stream",
     "text": [
      "2\n",
      "Dog\n",
      "woof\n",
      "3\n",
      "Dog\n",
      "woof\n",
      "1\n",
      "Cat\n",
      ",meow\n"
     ]
    }
   ],
   "source": [
    "struct Animal:\n",
    "    var age: Int\n",
    "    var species: String\n",
    "    var sound: StringLiteral\n",
    "\n",
    "    fn __init__(inout self, age: Int, species: String, sound: StringLiteral):\n",
    "        self.age = age\n",
    "        self.species = species\n",
    "        self.sound = sound\n",
    "\n",
    "    fn printProps(self):\n",
    "        print(self.age)\n",
    "        print(self.species)\n",
    "        print(self.sound)\n",
    "\n",
    "var dog = Animal(2, \"Dog\", \"woof\")\n",
    "var cat = Animal(1, \"Cat\", \",meow\")\n",
    "\n",
    "dog.printProps()\n",
    "dog.age = 3\n",
    "dog.printProps()\n",
    "cat.printProps()"
   ]
  },
  {
   "cell_type": "code",
   "execution_count": 14,
   "metadata": {},
   "outputs": [
    {
     "name": "stdout",
     "output_type": "stream",
     "text": [
      "Quack\n",
      "Moo\n"
     ]
    }
   ],
   "source": [
    "@value\n",
    "struct Duck:\n",
    "    fn quack(self):\n",
    "        print(\"Quack\")\n",
    "\n",
    "@value\n",
    "struct StealthCow:\n",
    "    fn quack(self):\n",
    "        print(\"Moo\")\n",
    "\n",
    "fn make_it_quack(definitely_a_duck: Duck):\n",
    "    definitely_a_duck.quack()\n",
    "\n",
    "fn make_it_quack(not_a_cow: StealthCow):\n",
    "    not_a_cow.quack()\n",
    "\n",
    "make_it_quack(Duck())\n",
    "make_it_quack(StealthCow())"
   ]
  },
  {
   "cell_type": "code",
   "execution_count": 15,
   "metadata": {},
   "outputs": [
    {
     "name": "stdout",
     "output_type": "stream",
     "text": [
      "Feluda\n"
     ]
    }
   ],
   "source": [
    "struct Book:\n",
    "    var title: String\n",
    "    var author: String\n",
    "    fn __init__(inout self, title: String, author: String):\n",
    "        self.title = title\n",
    "        self.author = author\n",
    "\n",
    "    fn __copyinit__(inout self, existing: Self):\n",
    "        self.title = existing.title\n",
    "        self.author = existing.author\n",
    "    fn __moveinit__(inout self, owned existing: Self):\n",
    "        self.title = existing.title\n",
    "        self.author = existing.author\n",
    "    fn __takeinit__(inout self, existing: Self):\n",
    "        self.title = existing.title\n",
    "        self.author = existing.author\n",
    "\n",
    "var originalBook = Book(\"Feluda\", \"Satyajit Ray\")\n",
    "\n",
    "# using copy constructor\n",
    "var copiedBook = originalBook\n",
    "\n",
    "print(copiedBook.title)"
   ]
  }
 ],
 "metadata": {
  "kernelspec": {
   "display_name": "Mojo",
   "language": "mojo",
   "name": "mojo-jupyter-kernel"
  },
  "language_info": {
   "codemirror_mode": {
    "name": "mojo"
   },
   "file_extension": ".mojo",
   "mimetype": "text/x-mojo",
   "name": "mojo"
  }
 },
 "nbformat": 4,
 "nbformat_minor": 2
}
