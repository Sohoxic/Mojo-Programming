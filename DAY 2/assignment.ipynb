{
 "cells": [
  {
   "cell_type": "code",
   "execution_count": 41,
   "metadata": {},
   "outputs": [
    {
     "name": "stdout",
     "output_type": "stream",
     "text": [
      "120\n"
     ]
    }
   ],
   "source": [
    "#1\n",
    "fn fact(num:Int)->Int:\n",
    "    if(num == 1 or num == 0):\n",
    "        return num\n",
    "    else:\n",
    "        return num*fact(num-1)\n",
    "\n",
    "\n",
    "var num = fact(5)\n",
    "print(num)"
   ]
  },
  {
   "cell_type": "code",
   "execution_count": 7,
   "metadata": {},
   "outputs": [],
   "source": [
    "# 2\n",
    "var globVar = 100\n",
    "\n",
    "def func():\n",
    "    a=1\n",
    "    print(\"a inside function\",a)\n",
    "\n",
    "def main():\n",
    "    print(\"accesing global variable x\", globVar)   #GLOBAL ACCESS\n",
    "    a=10\n",
    "    func()   #value not affected by main\n",
    "    a+=a\n",
    "    func()\n",
    "    print(\"a outside function\",a)"
   ]
  },
  {
   "cell_type": "code",
   "execution_count": 8,
   "metadata": {},
   "outputs": [],
   "source": [
    "#3\n",
    "fn mathoperation(x:Int=5,y:Int =10):\n",
    "    print(\"addition\",x+y)\n",
    "    print(\"multiplication\",x*y)\n",
    "mathoperation()\n",
    "print(\"new call\")\n",
    "mathoperation(10,10)"
   ]
  },
  {
   "cell_type": "code",
   "execution_count": 9,
   "metadata": {},
   "outputs": [],
   "source": [
    "#4\n",
    "def addnuminout(inout x:Int,inout y:Int):\n",
    "    x=1;y=2\n",
    "    return x+y\n",
    "a=10;b=20\n",
    "print(\"Initial value of variables\",a,b)\n",
    "print(addnuminout(a,b))\n",
    "print(\"Variables in main now\",a,b)\n",
    "\n",
    "def addnumborrow(borrowed x:Int,borrowed y:Int):\n",
    "    x=5;y=6\n",
    "    print(\"value in borrow function\",x,y)\n",
    "    return x+y\n",
    "print(addnumborrow(a,b))\n",
    "print(\"value outside borrow function\",a,b)\n"
   ]
  },
  {
   "cell_type": "code",
   "execution_count": 10,
   "metadata": {},
   "outputs": [],
   "source": [
    "#Q5\n",
    "struct student:\n",
    "    var name:String\n",
    "    var section:String\n",
    "    def __init__(inout self, name:String,section:String):\n",
    "        self.name=name\n",
    "        self.section=section\n",
    "    def printdetails(self):\n",
    "        print(\"Student details are:\")\n",
    "        print(self.name,self.section)\n",
    "\n",
    "var stud=student(\"richard\",\"E\")\n",
    "stud.printdetails()"
   ]
  },
  {
   "cell_type": "code",
   "execution_count": 40,
   "metadata": {},
   "outputs": [
    {
     "name": "stdout",
     "output_type": "stream",
     "text": [
      "cat\n",
      "4\n",
      "deleted self cat\n"
     ]
    }
   ],
   "source": [
    "#6\n",
    "@value\n",
    "struct MyPet:\n",
    "    var name: String\n",
    "    var age: Int\n",
    "\n",
    "    fn __init__(inout self, name: String, age: Int):\n",
    "        self.name = name\n",
    "        self.age = age\n",
    "    fn __del__(owned self):\n",
    "        print(\"deleted self\", self.name)\n",
    "\n",
    "\n",
    "fn pets():\n",
    "    var pet2 = MyPet(\"cat\", 4)\n",
    "    print(pet2.name)\n",
    "    print(pet2.age)\n",
    "\n",
    "pets()\n"
   ]
  },
  {
   "cell_type": "code",
   "execution_count": 26,
   "metadata": {},
   "outputs": [
    {
     "name": "stdout",
     "output_type": "stream",
     "text": [
      "name not found\n",
      "0\n",
      "cat\n",
      "4\n"
     ]
    }
   ],
   "source": [
    "#7\n",
    "struct MyPet:\n",
    "    var name: String\n",
    "    var age: Int\n",
    "\n",
    "    fn __init__(inout self):\n",
    "        self.name = \"name not found\"\n",
    "        self.age = 0\n",
    "\n",
    "    fn __init__(inout self, name: String, age: Int):\n",
    "        self = MyPet()\n",
    "        self.name = name\n",
    "        self.age = age\n",
    "\n",
    "var pet = MyPet()\n",
    "var pet2 = MyPet(\"cat\", 4)\n",
    "\n",
    "print(pet.name)\n",
    "print(pet.age)\n",
    "\n",
    "print(pet2.name)\n",
    "print(pet2.age)\n"
   ]
  },
  {
   "cell_type": "code",
   "execution_count": 16,
   "metadata": {},
   "outputs": [
    {
     "name": "stdout",
     "output_type": "stream",
     "text": [
      "Feluda\n"
     ]
    }
   ],
   "source": [
    "#8\n",
    "struct Book:\n",
    "    var title: String\n",
    "    var author: String\n",
    "    fn __init__(inout self, title: String, author: String):\n",
    "        self.title = title\n",
    "        self.author = author\n",
    "\n",
    "    fn __copyinit__(inout self, existing: Self):\n",
    "        self.title = existing.title\n",
    "        self.author = existing.author\n",
    "\n",
    "var originalBook = Book(\"Feluda\", \"Satyajit Ray\")\n",
    "\n",
    "# using copy constructor\n",
    "var copiedBook = originalBook\n",
    "\n",
    "print(copiedBook.title)"
   ]
  },
  {
   "cell_type": "code",
   "execution_count": 14,
   "metadata": {},
   "outputs": [],
   "source": [
    "#9"
   ]
  },
  {
   "cell_type": "code",
   "execution_count": 15,
   "metadata": {},
   "outputs": [
    {
     "name": "stdout",
     "output_type": "stream",
     "text": [
      "Feluda\n"
     ]
    }
   ],
   "source": []
  }
 ],
 "metadata": {
  "kernelspec": {
   "display_name": "Mojo",
   "language": "mojo",
   "name": "mojo-jupyter-kernel"
  },
  "language_info": {
   "codemirror_mode": {
    "name": "mojo"
   },
   "file_extension": ".mojo",
   "mimetype": "text/x-mojo",
   "name": "mojo"
  }
 },
 "nbformat": 4,
 "nbformat_minor": 2
}
