{
 "cells": [
  {
   "cell_type": "code",
   "execution_count": 2,
   "metadata": {},
   "outputs": [],
   "source": [
    "from benchmark import Unit\n",
    "from sys.intrinsics import strided_load\n",
    "from math import CeilDivableRaising\n",
    "from memory import memset_zero\n",
    "from memory.unsafe import DTypePointer\n",
    "from random import rand, random_float64\n",
    "from sys.info import simdwidthof\n",
    "from runtime.llcl import Runtime\n",
    "from algorithm import parallelize\n",
    "import time\n"
   ]
  },
  {
   "cell_type": "code",
   "execution_count": 3,
   "metadata": {},
   "outputs": [],
   "source": [
    "alias type = DType.float32\n",
    "\n",
    "struct Matrix[rows: Int, cols: Int]:\n",
    "    var data: DTypePointer[type]\n",
    "\n",
    "    # Initialize zeroeing all values\n",
    "    fn __init__(inout self):\n",
    "        self.data = DTypePointer[type].alloc(rows * cols)\n",
    "        memset_zero(self.data, rows * cols)\n",
    "\n",
    "    # Initialize taking a pointer, don't set any elements\n",
    "    fn __init__(inout self, data: DTypePointer[type]):\n",
    "        self.data = data\n",
    "\n",
    "    # Initialize with random values\n",
    "    @staticmethod\n",
    "    fn rand() -> Self:\n",
    "        var data = DTypePointer[type].alloc(rows * cols)\n",
    "        rand(data, rows * cols)\n",
    "        return Self(data)\n",
    "\n",
    "    fn __getitem__(self, y: Int, x: Int) -> Scalar[type]:\n",
    "        return self.load[1](y, x)\n",
    "\n",
    "    fn __setitem__(self, y: Int, x: Int, val: Scalar[type]):\n",
    "        self.store[1](y, x, val)\n",
    "\n",
    "    fn load[nelts: Int](self, y: Int, x: Int) -> SIMD[type, nelts]:\n",
    "        return self.data.load[width=nelts](y * self.cols + x)\n",
    "\n",
    "    fn store[nelts: Int](self, y: Int, x: Int, val: SIMD[type, nelts]):\n",
    "        return self.data.store[width=nelts](y * self.cols + x, val)"
   ]
  },
  {
   "cell_type": "code",
   "execution_count": 4,
   "metadata": {},
   "outputs": [],
   "source": [
    "alias nelts = simdwidthof[DType.float32]() * 2"
   ]
  },
  {
   "cell_type": "code",
   "execution_count": 5,
   "metadata": {},
   "outputs": [],
   "source": [
    "from algorithm import vectorize\n",
    "from algorithm import parallelize\n",
    "\n",
    "#write similar code for fn matadd_parallelized\n",
    "fn matadd_parallelized(C: Matrix, A: Matrix, B: Matrix):\n",
    "    @parameter\n",
    "    fn calc_row(m: Int):\n",
    "        for n in range(A.cols):\n",
    "            @parameter\n",
    "            fn add[nelts : Int](n : Int):\n",
    "                C.store[nelts](m,n, A[m,n] + B[m,n])\n",
    "            vectorize[add, nelts, size = C.cols]()\n",
    "    parallelize[calc_row](C.rows, C.rows)\n",
    "fn matsub_parallelized(C: Matrix, A: Matrix, B: Matrix):\n",
    "    @parameter\n",
    "    fn calc_row(m: Int):\n",
    "        for n in range(A.cols):\n",
    "            @parameter\n",
    "            fn sub[nelts : Int](n : Int):\n",
    "                C.store[nelts](m,n, A[m,n] - B[m,n])\n",
    "            vectorize[sub, nelts, size = C.cols]()\n",
    "    parallelize[calc_row](C.rows, C.rows)\n",
    "\n",
    "\n",
    "    "
   ]
  },
  {
   "cell_type": "code",
   "execution_count": 6,
   "metadata": {},
   "outputs": [],
   "source": [
    "alias M = 128\n",
    "alias N = 128\n",
    "alias K = 128\n",
    "\n",
    "@always_inline\n",
    "fn bench[\n",
    "    func: fn (Matrix, Matrix, Matrix) -> None](base_gflops: Float64):\n",
    "    var C = Matrix[M, N]()\n",
    "    var A = Matrix[M, K].rand()\n",
    "    var B = Matrix[K, N].rand()\n",
    "\n",
    "    @always_inline\n",
    "    @parameter\n",
    "    fn test_fn():\n",
    "        _ = func(C, A, B)\n",
    "\n",
    "    var secs = benchmark.run[test_fn](max_runtime_secs=1).mean()\n",
    "\n",
    "    A.data.free()\n",
    "    B.data.free()\n",
    "    C.data.free()\n",
    "#    # also print all the matrices\n",
    "#    print(\"Matrix A:\")\n",
    "#    for i in range(M):\n",
    "#        for j in range(K):\n",
    "#            print(A[i,j], \" \")\n",
    "#        print(\"\\n\")\n",
    "#    print(\"Matrix B:\")\n",
    "#    for i in range(K):\n",
    "#        for j in range(N):\n",
    "#            print(B[i,j], \" \")\n",
    "#        print(\"\\n\")\n",
    "#    print(\"Matrix C:\")\n",
    "#    for i in range(M):\n",
    "#        for j in range(N):\n",
    "#            print(C[i,j], \" \")\n",
    "#        print(\"\\n\")\n",
    "#\n",
    "    var gflops = ((2 * M * N * K) / secs) / 1e9\n",
    "\n",
    "    print(gflops, \"GFLOP/s\")"
   ]
  },
  {
   "cell_type": "code",
   "execution_count": 7,
   "metadata": {},
   "outputs": [
    {
     "name": "stdout",
     "output_type": "stream",
     "text": [
      "45.317157286412858 GFLOP/s\n",
      "44.059655981981635 GFLOP/s\n"
     ]
    }
   ],
   "source": [
    "bench[matadd_parallelized](0.0019909878018114003)\n",
    "bench[matsub_parallelized](0.0019909878018114003)"
   ]
  },
  {
   "cell_type": "code",
   "execution_count": null,
   "metadata": {},
   "outputs": [],
   "source": []
  }
 ],
 "metadata": {
  "kernelspec": {
   "display_name": "Mojo",
   "language": "mojo",
   "name": "mojo-jupyter-kernel"
  },
  "language_info": {
   "codemirror_mode": {
    "name": "mojo"
   },
   "file_extension": ".mojo",
   "mimetype": "text/x-mojo",
   "name": "mojo"
  }
 },
 "nbformat": 4,
 "nbformat_minor": 2
}
