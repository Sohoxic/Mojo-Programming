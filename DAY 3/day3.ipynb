{
 "cells": [
  {
   "cell_type": "code",
   "execution_count": 10,
   "metadata": {},
   "outputs": [
    {
     "name": "stdout",
     "output_type": "stream",
     "text": [
      "Dog\n",
      "20\n"
     ]
    }
   ],
   "source": [
    "@value\n",
    "struct MyPet:\n",
    "    var name:String\n",
    "    var age: Int\n",
    "    # does __init__ , __copyinit__ , __moveinit__8\n",
    "\n",
    "newpet = MyPet(\"Dog\", 20)\n",
    "\n",
    "print(newpet.name)\n",
    "print(newpet.age)"
   ]
  },
  {
   "cell_type": "code",
   "execution_count": 15,
   "metadata": {},
   "outputs": [
    {
     "name": "stdout",
     "output_type": "stream",
     "text": [
      "10\n",
      "20\n",
      "1\n",
      "2\n"
     ]
    }
   ],
   "source": [
    "#  register passable\n",
    "@value\n",
    "@register_passable\n",
    "struct Pair:\n",
    "    var a:Int\n",
    "    var b:Int\n",
    "\n",
    "fn main():\n",
    "    var x1 = Pair(10,20)\n",
    "    var y1 = x1\n",
    "    print(y1.a)\n",
    "    print(y1.b)\n",
    "\n",
    "    y1.a = 1\n",
    "    y1.b = 2\n",
    "    print(y1.a)\n",
    "    print(y1.b)\n",
    "\n",
    "main()"
   ]
  },
  {
   "cell_type": "code",
   "execution_count": 18,
   "metadata": {},
   "outputs": [
    {
     "name": "stdout",
     "output_type": "stream",
     "text": [
      "30\n"
     ]
    }
   ],
   "source": [
    "fn add():\n",
    "    var a = 10\n",
    "    var b = 20\n",
    "    var c = a+b\n",
    "    print(c)\n",
    "    @parameter\n",
    "    fn mul():\n",
    "        var x = c*c\n",
    "        print(x)\n",
    "\n",
    "add()"
   ]
  },
  {
   "cell_type": "code",
   "execution_count": 19,
   "metadata": {},
   "outputs": [
    {
     "name": "stdout",
     "output_type": "stream",
     "text": [
      "42\n",
      "42\n",
      "1\n",
      "4\n",
      "7\n"
     ]
    }
   ],
   "source": [
    "fn repeat[MsgType: Stringable, count: Int](msg: MsgType):\n",
    "    @parameter\n",
    "    for i in range(count):\n",
    "        print(msg)\n",
    "fn found[max:Int = 10]():\n",
    "    @parameter\n",
    "    for i in range(1,max, 3):\n",
    "        print(i)\n",
    "# Must use keyword parameter for `count`\n",
    "repeat[count=2](42)\n",
    "found()"
   ]
  },
  {
   "cell_type": "code",
   "execution_count": 1,
   "metadata": {},
   "outputs": [
    {
     "name": "stdout",
     "output_type": "stream",
     "text": [
      "[1, 2, 3, 4]\n",
      "[1, 4, 9, 16]\n",
      "1 4 9 16 "
     ]
    }
   ],
   "source": [
    "fn main():\n",
    "    var vector = SIMD[DType.int16, 4](1,2,3,4)\n",
    "    print(vector)\n",
    "    vector = vector * vector\n",
    "    print(vector)\n",
    "\n",
    "    for i in range(4):\n",
    "        print(vector[i], end = \" \")\n",
    "\n",
    "main()"
   ]
  },
  {
   "cell_type": "code",
   "execution_count": 1,
   "metadata": {},
   "outputs": [
    {
     "name": "stdout",
     "output_type": "stream",
     "text": [
      "Soham   21\n"
     ]
    }
   ],
   "source": [
    "from module import module1\n",
    "\n",
    "var obj = module1.MyPair(\"Soham\",21)\n",
    "obj.dump()"
   ]
  },
  {
   "cell_type": "code",
   "execution_count": 6,
   "metadata": {},
   "outputs": [
    {
     "name": "stdout",
     "output_type": "stream",
     "text": [
      "Unhandled exception caught during execution"
     ]
    },
    {
     "name": "stdout",
     "output_type": "stream",
     "text": [
      "Error: partially initialized module 'matplotlib.pyplot' has no attribute 'bar' (most likely due to a circular import)\n"
     ]
    }
   ],
   "source": [
    "from python import Python\n",
    "\n",
    "def main():\n",
    "    var plt = Python.import_module(\"matplotlib.pyplot\")\n",
    "    x = [\"A\", \"B\", \"C\", \"D\", \"E\",]\n",
    "    y = [10,20,30,40,50]\n",
    "    plt.bar(x,y)\n",
    "    plt.show()"
   ]
  }
 ],
 "metadata": {
  "kernelspec": {
   "display_name": "Mojo",
   "language": "mojo",
   "name": "mojo-jupyter-kernel"
  },
  "language_info": {
   "codemirror_mode": {
    "name": "mojo"
   },
   "file_extension": ".mojo",
   "mimetype": "text/x-mojo",
   "name": "mojo"
  }
 },
 "nbformat": 4,
 "nbformat_minor": 2
}
