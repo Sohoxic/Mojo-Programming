{
 "cells": [
  {
   "cell_type": "code",
   "execution_count": 6,
   "metadata": {},
   "outputs": [
    {
     "name": "stdout",
     "output_type": "stream",
     "text": [
      "[1, 2, 3, 4, 5, 6, 7, 8, 9, 10, 0, 0, 0, 0, 0, 0]\n",
      "[1, 4, 9, 16, 25, 36, 49, 64, 81, 100, 0, 0, 0, 0, 0, 0]\n"
     ]
    }
   ],
   "source": [
    "fn main():\n",
    "    var vector = SIMD[DType.int32, 16](1,2,3,4,5,6,7,8,9,10)\n",
    "    print(vector)\n",
    "    vector = vector * vector\n",
    "    print(vector)\n",
    "\n",
    "main()"
   ]
  }
 ],
 "metadata": {
  "kernelspec": {
   "display_name": "Mojo",
   "language": "mojo",
   "name": "mojo-jupyter-kernel"
  },
  "language_info": {
   "codemirror_mode": {
    "name": "mojo"
   },
   "file_extension": ".mojo",
   "mimetype": "text/x-mojo",
   "name": "mojo"
  }
 },
 "nbformat": 4,
 "nbformat_minor": 2
}
